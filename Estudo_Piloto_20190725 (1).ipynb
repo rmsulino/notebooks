{
 "cells": [
  {
   "cell_type": "markdown",
   "metadata": {
    "colab_type": "text",
    "id": "15u0wROBiT3h"
   },
   "source": [
    "# Estudo Piloto\n"
   ]
  },
  {
   "cell_type": "markdown",
   "metadata": {
    "colab_type": "text",
    "id": "DCXDAKQo8Nfp"
   },
   "source": [
    "## Amostra\n",
    "\n",
    "Estudo realizado com parte da amostra coletada\n",
    "\n",
    "50 participantes retirados do banco de dados principal, aqueles com maior numero de atividades, somente corrida de rua ou ciclismo (run, ride);\n",
    "\n",
    "## Cópia do banco de dados principal\n",
    "\n",
    "```mysql\n",
    "$ mysql\n",
    "mysql> CREATE DATABASE estudo_piloto;\n",
    "\n",
    "$ mysqldump -u root doutorado | mysql -u root estudo_piloto\n",
    "```\n"
   ]
  },
  {
   "cell_type": "markdown",
   "metadata": {
    "colab_type": "text",
    "id": "wuOBJfHJJixS"
   },
   "source": [
    "## Conexão ao banco de dados \"estudo_piloto\""
   ]
  },
  {
   "cell_type": "code",
   "execution_count": 2,
   "metadata": {
    "colab": {
     "base_uri": "https://localhost:8080/",
     "height": 119
    },
    "colab_type": "code",
    "id": "k4aUYa0aJQXK",
    "outputId": "66193f6a-f13c-4dab-bcd7-dc276bd46484"
   },
   "outputs": [
    {
     "name": "stdout",
     "output_type": "stream",
     "text": [
      "/bin/sh: 1: pip: not found\n",
      "Versão do MySQL: 5.7.26 \n"
     ]
    }
   ],
   "source": [
    "# Conecta ao banco de dados \"estudo_piloto\"\n",
    "\n",
    "# Instala recursos necessários\n",
    "\n",
    "#!pip install pymysql\n",
    "\n",
    "# Importa bibliotecas necessárias\n",
    "\n",
    "import pymysql\n",
    "import pandas as pd\n",
    "from tabulate import tabulate\n",
    "\n",
    "# Conecta ao banco MySQL\n",
    "\n",
    "MYSQL_HOST = \"rafaelsulino.pro.br\"\n",
    "MYSQL_PORT = 3306\n",
    "MYSQL_DB = \"estudo_piloto\"\n",
    "MYSQL_USER = \"root\"\n",
    "MYSQL_PASS = \"1qazxmklop0\"\n",
    "\n",
    "conn = pymysql.connect(MYSQL_HOST, user=MYSQL_USER, port=MYSQL_PORT, passwd=MYSQL_PASS, db=MYSQL_DB)\n",
    "cursor = conn.cursor()\n",
    "cursor.execute(\"SELECT VERSION()\")\n",
    "\n",
    "data = cursor.fetchone()\n",
    "print(\"Versão do MySQL: %s \" % data)"
   ]
  },
  {
   "cell_type": "markdown",
   "metadata": {
    "colab_type": "text",
    "id": "mJRtMIuYJcNu"
   },
   "source": [
    "## Limpeza dos dados"
   ]
  },
  {
   "cell_type": "code",
   "execution_count": null,
   "metadata": {
    "colab": {},
    "colab_type": "code",
    "id": "jkIOUEj8IjYg"
   },
   "outputs": [],
   "source": [
    "# Limpeza dos dados\n",
    "\n",
    "# 1. Elimina todos as atividades que não sejam corrida de rua (run) ou ciclismo (ride)\n",
    "\n",
    "sql_limpa = \"\"\"\n",
    "            DELETE FROM atividades\n",
    "            WHERE tipo NOT IN (\"Run\", \"Ride\")\n",
    "            \"\"\"\n",
    "\n",
    "try:\n",
    "    cursor.execute(sql_limpa)\n",
    "    conn.commit()\n",
    "except:\n",
    "    conn.rollback()\n",
    "   "
   ]
  },
  {
   "cell_type": "code",
   "execution_count": null,
   "metadata": {
    "colab": {},
    "colab_type": "code",
    "id": "bXAUmiKK25tL"
   },
   "outputs": [],
   "source": [
    "# Elimina todas as atividades com menos de 30 minutos de duração\n",
    "\n",
    "# (moving_time / 60) > 30 ==> moving_time > 1800\n",
    "\n",
    "sql_limpa = \"\"\"\n",
    "            DELETE FROM atividades\n",
    "            WHERE moving_time < 1800\n",
    "            \"\"\"\n",
    "\n",
    "try:\n",
    "    cursor.execute(sql_limpa)\n",
    "    conn.commit()\n",
    "except:\n",
    "    conn.rollback()"
   ]
  },
  {
   "cell_type": "code",
   "execution_count": null,
   "metadata": {
    "colab": {},
    "colab_type": "code",
    "id": "CwB7NpLnYjp-"
   },
   "outputs": [],
   "source": [
    "# Elimina todas as atividades sem dados de latitude e longitude\n",
    "\n",
    "sql_limpa = \"\"\"\n",
    "            DELETE FROM atividades\n",
    "            WHERE latitude_inicio IS NULL\n",
    "            OR longitude_inicio IS NULL\n",
    "            \"\"\"\n",
    "\n",
    "try:\n",
    "    cursor.execute(sql_limpa)\n",
    "    conn.commit()\n",
    "except:\n",
    "    conn.rollback()"
   ]
  },
  {
   "cell_type": "code",
   "execution_count": null,
   "metadata": {
    "colab": {},
    "colab_type": "code",
    "id": "VzAkFHgwPml4"
   },
   "outputs": [],
   "source": [
    "# Remover todas as atividades marcadas com \"flag\" (flagged = 1)\n",
    "\n",
    "sql_limpa = \"\"\"\n",
    "            DELETE FROM atividades\n",
    "            WHERE flagged = 1\n",
    "            \"\"\"\n",
    "\n",
    "try:\n",
    "    cursor.execute(sql_limpa)\n",
    "    conn.commit()\n",
    "except:\n",
    "    conn.rollback()"
   ]
  },
  {
   "cell_type": "code",
   "execution_count": null,
   "metadata": {
    "colab": {},
    "colab_type": "code",
    "id": "KXMBurB8BGHO"
   },
   "outputs": [],
   "source": [
    "# Elimina todas as atividades sem frequencia cardiaca\n",
    "\n",
    "sql_limpa = \"\"\"\n",
    "            DELETE FROM atividades\n",
    "            WHERE average_heartrate IS NULL\n",
    "            OR average_heartrate = \"\"\n",
    "            \"\"\"\n",
    "\n",
    "try:\n",
    "    cursor.execute(sql_limpa)\n",
    "    conn.commit()\n",
    "except:\n",
    "    conn.rollback()"
   ]
  },
  {
   "cell_type": "code",
   "execution_count": null,
   "metadata": {
    "colab": {
     "base_uri": "https://localhost:8080/",
     "height": 425
    },
    "colab_type": "code",
    "id": "vfp5m_FM4zZv",
    "outputId": "63258df8-2e25-4c39-8747-b63bf974873e"
   },
   "outputs": [],
   "source": [
    "# Remove todas as atividades sem dados de clima\n",
    "\n",
    "sql_limpa = \"\"\"\n",
    "            DELETE FROM atividades\n",
    "            WHERE id_atividade NOT IN (SELECT id_atividade FROM clima_atividade_inicio)\n",
    "            \"\"\"\n",
    "\n",
    "try:\n",
    "    cursor.execute(sql_limpa)\n",
    "    conn.commit()\n",
    "except:\n",
    "    conn.rollback()\n",
    "    \n",
    "sql_limpa = \"\"\"\n",
    "            DELETE FROM atividades\n",
    "            WHERE id_atividade NOT IN (SELECT id_atividade FROM clima_atividade_fim)\n",
    "            \"\"\"\n",
    "\n",
    "try:\n",
    "    cursor.execute(sql_limpa)\n",
    "    conn.commit()\n",
    "except:\n",
    "    conn.rollback()"
   ]
  },
  {
   "cell_type": "code",
   "execution_count": null,
   "metadata": {
    "colab": {},
    "colab_type": "code",
    "id": "Ocz5OmWkSnH1"
   },
   "outputs": [],
   "source": [
    "# 2. Elimina todos os participantes que não tenham atividade associada (após eliminar atividades indesejadas)\n",
    "\n",
    "sql_limpa = \"\"\"\n",
    "            DELETE FROM participantes\n",
    "            WHERE id_participante NOT IN\n",
    "            (\n",
    "                SELECT id_participante FROM atividades\n",
    "            )\n",
    "            \"\"\"\n",
    "\n",
    "try:\n",
    "    cursor.execute(sql_limpa)\n",
    "    conn.commit()\n",
    "except:\n",
    "    conn.rollback()"
   ]
  },
  {
   "cell_type": "code",
   "execution_count": null,
   "metadata": {
    "colab": {},
    "colab_type": "code",
    "id": "GY7LuOuAStcC"
   },
   "outputs": [],
   "source": [
    "# 3. Elimina todos os participantes com inconsistencia nos dados (faltando data de nascimento, massa, estatura, etc)\n",
    "\n",
    "sql_limpa = \"\"\"\n",
    "            DELETE FROM participantes\n",
    "            WHERE data_nascimento IS NULL\n",
    "            OR data_nascimento = \"0000-00-00\"\n",
    "            OR estatura IS NULL\n",
    "            OR massa_corporal IS NULL\n",
    "            OR calc_imc IS NULL\n",
    "            \"\"\"\n",
    "\n",
    "try:\n",
    "    cursor.execute(sql_limpa)\n",
    "    conn.commit()\n",
    "except:\n",
    "    conn.rollback()"
   ]
  },
  {
   "cell_type": "code",
   "execution_count": null,
   "metadata": {
    "colab": {},
    "colab_type": "code",
    "id": "JGXbxwveeM9j"
   },
   "outputs": [],
   "source": [
    "# 4. Elimina todos os participantes com menos de 18 anos ou mais de 65 anos (critério de inclusão)\n",
    "\n",
    "sql_limpa = \"\"\"\n",
    "            DELETE FROM participantes\n",
    "            WHERE idade < 18\n",
    "            OR idade > 65\n",
    "            \"\"\"\n",
    "\n",
    "try:\n",
    "    cursor.execute(sql_limpa)\n",
    "    conn.commit()\n",
    "except:\n",
    "    conn.rollback()"
   ]
  },
  {
   "cell_type": "code",
   "execution_count": null,
   "metadata": {
    "colab": {},
    "colab_type": "code",
    "id": "vE8AweIxTTrK"
   },
   "outputs": [],
   "source": [
    "# 6. Elimina participantes que não tenham questionário WHOQOL-BREF\n",
    "\n",
    "sql_limpa = \"\"\"\n",
    "            DELETE FROM participantes\n",
    "            WHERE id_participante NOT IN (\n",
    "                SELECT id_participante FROM saude_qv\n",
    "            )\n",
    "            \"\"\"\n",
    "\n",
    "try:\n",
    "    cursor.execute(sql_limpa)\n",
    "    conn.commit()\n",
    "except:\n",
    "    conn.rollback()"
   ]
  },
  {
   "cell_type": "markdown",
   "metadata": {
    "colab_type": "text",
    "id": "y346Xi6Fcsah"
   },
   "source": [
    "## Remover outliers (valores 1,5x maiores ou menores que o desvio padrão)\n",
    "\n",
    "Inserir gráfico de quartis\n",
    "\n",
    "![picture](https://www.statisticshowto.datasciencecentral.com/wp-content/uploads/2012/03/iqr.jpg)"
   ]
  },
  {
   "cell_type": "code",
   "execution_count": null,
   "metadata": {
    "colab": {},
    "colab_type": "code",
    "id": "KM98dFzrTHAG"
   },
   "outputs": [],
   "source": [
    "# 7. Remover outliers 1.5x acima do desvio padrão para massa corporal\n",
    "\n",
    "sql_limpa = \"\"\"\n",
    "            DELETE FROM participantes\n",
    "            WHERE massa_corporal > \n",
    "                (\n",
    "                SELECT * FROM \n",
    "                    (\n",
    "                    SELECT AVG(massa_corporal)+1.5*STDDEV(massa_corporal) \n",
    "                    FROM participantes\n",
    "                    )\n",
    "                x)\n",
    "            \"\"\"\n",
    "\n",
    "try:\n",
    "    cursor.execute(sql_limpa)\n",
    "    conn.commit()\n",
    "except:\n",
    "    conn.rollback()"
   ]
  },
  {
   "cell_type": "code",
   "execution_count": null,
   "metadata": {
    "colab": {},
    "colab_type": "code",
    "id": "06j7j_YIdlO2"
   },
   "outputs": [],
   "source": [
    "# 8. Remover outliers 1.5x acima do desvio padrão para estatura\n",
    "\n",
    "sql_limpa = \"\"\"\n",
    "            DELETE FROM participantes\n",
    "            WHERE estatura > \n",
    "                (\n",
    "                SELECT * FROM \n",
    "                    (\n",
    "                    SELECT AVG(estatura)+1.5*STDDEV(estatura) \n",
    "                    FROM participantes\n",
    "                    )\n",
    "                x)\n",
    "            \"\"\"\n",
    "\n",
    "try:\n",
    "    cursor.execute(sql_limpa)\n",
    "    conn.commit()\n",
    "except:\n",
    "    conn.rollback()"
   ]
  },
  {
   "cell_type": "code",
   "execution_count": null,
   "metadata": {
    "colab": {},
    "colab_type": "code",
    "id": "3IG2eAO1dwNq"
   },
   "outputs": [],
   "source": [
    "# 9. Remover outliers 1.5x abaixo do desvio padrão para estatura\n",
    "\n",
    "sql_limpa = \"\"\"\n",
    "            DELETE FROM participantes\n",
    "            WHERE estatura <\n",
    "                (\n",
    "                SELECT * FROM \n",
    "                    (\n",
    "                    SELECT AVG(estatura)-1.5*STDDEV(estatura) \n",
    "                    FROM participantes\n",
    "                    )\n",
    "                x)\n",
    "            \"\"\"\n",
    "\n",
    "try:\n",
    "    cursor.execute(sql_limpa)\n",
    "    conn.commit()\n",
    "except:\n",
    "    conn.rollback()"
   ]
  },
  {
   "cell_type": "code",
   "execution_count": null,
   "metadata": {
    "colab": {},
    "colab_type": "code",
    "id": "HAu3eORzddw7"
   },
   "outputs": [],
   "source": [
    "# 7. Remover outliers 1.5x abaixo do desvio padrão para massa corporal\n",
    "\n",
    "sql_limpa = \"\"\"\n",
    "            DELETE FROM participantes\n",
    "            WHERE massa_corporal < \n",
    "                (\n",
    "                SELECT * FROM \n",
    "                    (\n",
    "                    SELECT AVG(massa_corporal)-1.5*STDDEV(massa_corporal) \n",
    "                    FROM participantes\n",
    "                    )\n",
    "                x)\n",
    "            \"\"\"\n",
    "\n",
    "try:\n",
    "    cursor.execute(sql_limpa)\n",
    "    conn.commit()\n",
    "except:\n",
    "    conn.rollback()"
   ]
  },
  {
   "cell_type": "code",
   "execution_count": null,
   "metadata": {
    "colab": {},
    "colab_type": "code",
    "id": "ofDv99eiSwPX"
   },
   "outputs": [],
   "source": [
    "# 5. Elimina todas as atividades que não tenham participantes associados (após limpeza anterior do item 3)\n",
    "\n",
    "\n",
    "sql_limpa = \"\"\"\n",
    "            DELETE FROM atividades\n",
    "            WHERE id_participante NOT IN (\n",
    "                SELECT id_participante FROM participantes\n",
    "            )\n",
    "            \"\"\"\n",
    "\n",
    "try:\n",
    "    cursor.execute(sql_limpa)\n",
    "    conn.commit()\n",
    "except:\n",
    "    conn.rollback()"
   ]
  },
  {
   "cell_type": "code",
   "execution_count": null,
   "metadata": {
    "colab": {},
    "colab_type": "code",
    "id": "N52-pUdFj2zM"
   },
   "outputs": [],
   "source": [
    "# Elimina questionários sem participantes associados\n",
    "\n",
    "sql_limpa = \"\"\"\n",
    "            DELETE FROM saude_qv\n",
    "            WHERE id_participante NOT IN (\n",
    "                SELECT id_participante FROM participantes\n",
    "            )\n",
    "            \"\"\"\n",
    "\n",
    "try:\n",
    "    cursor.execute(sql_limpa)\n",
    "    conn.commit()\n",
    "except:\n",
    "    conn.rollback()"
   ]
  },
  {
   "cell_type": "code",
   "execution_count": null,
   "metadata": {
    "colab": {
     "base_uri": "https://localhost:8080/",
     "height": 425
    },
    "colab_type": "code",
    "id": "8eiRD52jlTtQ",
    "outputId": "b2d0f8b0-63fb-4c02-9114-985943cf1da3"
   },
   "outputs": [],
   "source": [
    "# Elimina dados de clima sem atividades associadas\n",
    "\n",
    "sql_limpa = \"\"\"\n",
    "            DELETE FROM clima_atividade_inicio\n",
    "            WHERE id_atividade NOT IN (SELECT id_atividade FROM atividades)\n",
    "            \"\"\"\n",
    "\n",
    "try:\n",
    "    cursor.execute(sql_limpa)\n",
    "    conn.commit()\n",
    "except:\n",
    "    conn.rollback()\n",
    "   \n",
    "\n",
    "sql_limpa = \"\"\"\n",
    "            DELETE FROM clima_atividade_fim\n",
    "            WHERE id_atividade NOT IN (SELECT id_atividade FROM atividades)\n",
    "            \"\"\"\n",
    "\n",
    "try:\n",
    "    cursor.execute(sql_limpa)\n",
    "    conn.commit()\n",
    "except:\n",
    "    conn.rollback()"
   ]
  },
  {
   "cell_type": "markdown",
   "metadata": {
    "colab_type": "text",
    "id": "TvheI99vqUll"
   },
   "source": [
    "## Resumo dos dados após limpeza"
   ]
  },
  {
   "cell_type": "markdown",
   "metadata": {
    "colab_type": "text",
    "id": "nP-2MQqBhV4R"
   },
   "source": [
    "## Reduzir a 50 participantes\n",
    "\n",
    "Eliminar o restante de forma randômica"
   ]
  },
  {
   "cell_type": "code",
   "execution_count": null,
   "metadata": {
    "colab": {},
    "colab_type": "code",
    "id": "f9fCQof5TNpn"
   },
   "outputs": [],
   "source": [
    "# 7. Reduzir a 50 participantes (120 do total menos 50 = eliminar 70 aleatoriamente)\n",
    "\n",
    "\n",
    "sql_limpa = \"\"\"\n",
    "            DELETE FROM participantes\n",
    "            ORDER BY RAND()\n",
    "            LIMIT 70\n",
    "            \"\"\"\n",
    "\n",
    "try:\n",
    "    cursor.execute(sql_limpa)\n",
    "    conn.commit()\n",
    "except:\n",
    "    conn.rollback()"
   ]
  },
  {
   "cell_type": "code",
   "execution_count": null,
   "metadata": {
    "colab": {},
    "colab_type": "code",
    "id": "Ojb_czxLnGo0"
   },
   "outputs": [],
   "source": [
    "# Remover atividades excedentes (manter somente dos 50 participantes)\n",
    "\n",
    "sql_limpa = \"\"\"\n",
    "            DELETE FROM atividades\n",
    "            WHERE id_participante NOT IN (\n",
    "                SELECT id_participante\n",
    "                FROM participantes\n",
    "            )\n",
    "            \"\"\"\n",
    "\n",
    "try:\n",
    "    cursor.execute(sql_limpa)\n",
    "    conn.commit()\n",
    "except:\n",
    "    conn.rollback()"
   ]
  },
  {
   "cell_type": "code",
   "execution_count": null,
   "metadata": {
    "colab": {},
    "colab_type": "code",
    "id": "_zOHQfcXnewD"
   },
   "outputs": [],
   "source": [
    "# Remover questionários excedentes (manter somente dos 50 participantes)\n",
    "\n",
    "sql_limpa = \"\"\"\n",
    "            DELETE FROM saude_qv\n",
    "            WHERE id_participante NOT IN (\n",
    "                SELECT id_participante\n",
    "                FROM participantes\n",
    "            )\n",
    "            \"\"\"\n",
    "\n",
    "try:\n",
    "    cursor.execute(sql_limpa)\n",
    "    conn.commit()\n",
    "except:\n",
    "    conn.rollback()"
   ]
  },
  {
   "cell_type": "code",
   "execution_count": null,
   "metadata": {
    "colab": {
     "base_uri": "https://localhost:8080/",
     "height": 51
    },
    "colab_type": "code",
    "id": "bj0UFQuskOQN",
    "outputId": "4ea7e52d-bb22-4da0-fd4f-9dca1fd6afb2"
   },
   "outputs": [
    {
     "name": "stdout",
     "output_type": "stream",
     "text": [
      "Requirement already satisfied: pyprog in /usr/local/lib/python3.6/dist-packages (1.1.0.post0)\n",
      " Progress: 100% ################################################## "
     ]
    }
   ],
   "source": [
    "!pip install pyprog\n",
    "\n",
    "# Elimina trackpoints sem atividades associadas\n",
    "\n",
    "# Foi necessário adicionar um indice secundário para o campo 'id_atividade' na tabela atividades para acelerar o delete.\n",
    "# (> 300 milhões de registros)\n",
    "\n",
    "import pyprog\n",
    "\n",
    "max_count = 38 # número de vezes necessárias para loop de 1 em 1 milhão\n",
    "count = 0\n",
    "\n",
    "# inicializa a barra de progresso\n",
    "prog = pyprog.ProgressBar(\" \", \"\", max_count)\n",
    "prog.update()\n",
    "\n",
    "for i in range(max_count):\n",
    "    \n",
    "    # atualiza a barra de progresso\n",
    "    prog.set_stat(count + 1)\n",
    "    prog.update()\n",
    "    \n",
    "    count += 1\n",
    "    \n",
    "    sql_limpa = \"\"\"\n",
    "                DELETE QUICK FROM trackpoints\n",
    "                WHERE id_atividade NOT IN (\n",
    "                    SELECT id_atividade FROM atividades\n",
    "                )\n",
    "                LIMIT 1000000          \n",
    "                \"\"\"\n",
    "\n",
    "    try:\n",
    "        cursor.execute(sql_limpa)\n",
    "        conn.commit()\n",
    "    except:\n",
    "        conn.rollback()\n",
    "        "
   ]
  },
  {
   "cell_type": "markdown",
   "metadata": {
    "colab_type": "text",
    "id": "YZbrhL4wi6KZ"
   },
   "source": [
    "## Otimizar banco de dados (após limpeza)\n",
    "\n",
    "Repetir para cada tabela.\n",
    "\n",
    "Exemplo:\n",
    "\n",
    "```\n",
    "mysql> OPTIMIZE TABLE atividades;\n",
    "```\n"
   ]
  },
  {
   "cell_type": "markdown",
   "metadata": {
    "colab_type": "text",
    "id": "l1BWVoJymHN-"
   },
   "source": [
    "##Resumo após limpeza"
   ]
  },
  {
   "cell_type": "code",
   "execution_count": null,
   "metadata": {
    "colab": {
     "base_uri": "https://localhost:8080/",
     "height": 235
    },
    "colab_type": "code",
    "id": "PK4EyhW4qY5j",
    "outputId": "d69f0f7a-3740-4c11-9c48-9653f4fca9f9"
   },
   "outputs": [
    {
     "data": {
      "text/html": [
       "<div>\n",
       "<style scoped>\n",
       "    .dataframe tbody tr th:only-of-type {\n",
       "        vertical-align: middle;\n",
       "    }\n",
       "\n",
       "    .dataframe tbody tr th {\n",
       "        vertical-align: top;\n",
       "    }\n",
       "\n",
       "    .dataframe thead th {\n",
       "        text-align: right;\n",
       "    }\n",
       "</style>\n",
       "<table border=\"1\" class=\"dataframe\">\n",
       "  <thead>\n",
       "    <tr style=\"text-align: right;\">\n",
       "      <th></th>\n",
       "      <th>tabela</th>\n",
       "      <th>registros</th>\n",
       "    </tr>\n",
       "  </thead>\n",
       "  <tbody>\n",
       "    <tr>\n",
       "      <th>0</th>\n",
       "      <td>participantes</td>\n",
       "      <td>50</td>\n",
       "    </tr>\n",
       "    <tr>\n",
       "      <th>1</th>\n",
       "      <td>atividades</td>\n",
       "      <td>22322</td>\n",
       "    </tr>\n",
       "    <tr>\n",
       "      <th>2</th>\n",
       "      <td>questionarios</td>\n",
       "      <td>50</td>\n",
       "    </tr>\n",
       "    <tr>\n",
       "      <th>3</th>\n",
       "      <td>clima_inicio</td>\n",
       "      <td>10276</td>\n",
       "    </tr>\n",
       "    <tr>\n",
       "      <th>4</th>\n",
       "      <td>clima_fim</td>\n",
       "      <td>9291</td>\n",
       "    </tr>\n",
       "    <tr>\n",
       "      <th>5</th>\n",
       "      <td>trackpoints</td>\n",
       "      <td>74983375</td>\n",
       "    </tr>\n",
       "  </tbody>\n",
       "</table>\n",
       "</div>"
      ],
      "text/plain": [
       "          tabela  registros\n",
       "0  participantes         50\n",
       "1     atividades      22322\n",
       "2  questionarios         50\n",
       "3   clima_inicio      10276\n",
       "4      clima_fim       9291\n",
       "5    trackpoints   74983375"
      ]
     },
     "execution_count": 5,
     "metadata": {
      "tags": []
     },
     "output_type": "execute_result"
    }
   ],
   "source": [
    "# Quantidade de dados após limpeza\n",
    "\n",
    "sql_amostra = \"\"\"\n",
    "                SELECT \"participantes\" AS tabela, COUNT(*) AS registros FROM estudo_piloto.participantes UNION                         \n",
    "                SELECT \"atividades\" AS tabela, COUNT(*) AS registros FROM estudo_piloto.atividades UNION\n",
    "                SELECT \"questionarios\" AS tabela, COUNT(*) AS registros FROM estudo_piloto.saude_qv UNION\n",
    "                SELECT \"clima_inicio\" AS tabela, COUNT(*) AS registros FROM estudo_piloto.clima_atividade_inicio UNION\n",
    "                SELECT \"clima_fim\" AS tabela, COUNT(*) AS registros FROM estudo_piloto.clima_atividade_fim UNION\n",
    "                SELECT \"trackpoints\" AS tabela, COUNT(*) AS registros FROM estudo_piloto.trackpoints\n",
    "                \"\"\"\n",
    "\n",
    "cursor.execute(sql_amostra)\n",
    "result = cursor.fetchall()\n",
    "\n",
    "df = pd.read_sql(sql_amostra , conn)\n",
    "\n",
    "df"
   ]
  },
  {
   "cell_type": "code",
   "execution_count": null,
   "metadata": {
    "colab": {},
    "colab_type": "code",
    "id": "OZ3mp20J9sqq"
   },
   "outputs": [],
   "source": []
  },
  {
   "cell_type": "code",
   "execution_count": null,
   "metadata": {
    "colab": {
     "base_uri": "https://localhost:8080/",
     "height": 1000
    },
    "colab_type": "code",
    "id": "L8K0YF9D8UIp",
    "outputId": "47998e81-07bc-49c8-e33b-48817ada6bc9"
   },
   "outputs": [
    {
     "name": "stdout",
     "output_type": "stream",
     "text": [
      "50 participantes selecionados\n"
     ]
    },
    {
     "data": {
      "text/html": [
       "<div>\n",
       "<style scoped>\n",
       "    .dataframe tbody tr th:only-of-type {\n",
       "        vertical-align: middle;\n",
       "    }\n",
       "\n",
       "    .dataframe tbody tr th {\n",
       "        vertical-align: top;\n",
       "    }\n",
       "\n",
       "    .dataframe thead th {\n",
       "        text-align: right;\n",
       "    }\n",
       "</style>\n",
       "<table border=\"1\" class=\"dataframe\">\n",
       "  <thead>\n",
       "    <tr style=\"text-align: right;\">\n",
       "      <th></th>\n",
       "      <th>id_participante</th>\n",
       "      <th>sexo</th>\n",
       "      <th>estatura</th>\n",
       "      <th>massa_corporal</th>\n",
       "      <th>calc_imc</th>\n",
       "      <th>idade</th>\n",
       "    </tr>\n",
       "  </thead>\n",
       "  <tbody>\n",
       "    <tr>\n",
       "      <th>0</th>\n",
       "      <td>39054988</td>\n",
       "      <td>F</td>\n",
       "      <td>162.00</td>\n",
       "      <td>79.00</td>\n",
       "      <td>30.00</td>\n",
       "      <td>25</td>\n",
       "    </tr>\n",
       "    <tr>\n",
       "      <th>1</th>\n",
       "      <td>324247</td>\n",
       "      <td>M</td>\n",
       "      <td>177.00</td>\n",
       "      <td>73.00</td>\n",
       "      <td>23.00</td>\n",
       "      <td>52</td>\n",
       "    </tr>\n",
       "    <tr>\n",
       "      <th>2</th>\n",
       "      <td>36266311</td>\n",
       "      <td>M</td>\n",
       "      <td>170.00</td>\n",
       "      <td>67.00</td>\n",
       "      <td>23.00</td>\n",
       "      <td>27</td>\n",
       "    </tr>\n",
       "    <tr>\n",
       "      <th>3</th>\n",
       "      <td>26243656</td>\n",
       "      <td>M</td>\n",
       "      <td>180.00</td>\n",
       "      <td>93.00</td>\n",
       "      <td>29.00</td>\n",
       "      <td>55</td>\n",
       "    </tr>\n",
       "    <tr>\n",
       "      <th>4</th>\n",
       "      <td>14211154</td>\n",
       "      <td>M</td>\n",
       "      <td>185.00</td>\n",
       "      <td>102.00</td>\n",
       "      <td>30.00</td>\n",
       "      <td>47</td>\n",
       "    </tr>\n",
       "    <tr>\n",
       "      <th>5</th>\n",
       "      <td>1240758</td>\n",
       "      <td>M</td>\n",
       "      <td>182.00</td>\n",
       "      <td>77.00</td>\n",
       "      <td>23.00</td>\n",
       "      <td>33</td>\n",
       "    </tr>\n",
       "    <tr>\n",
       "      <th>6</th>\n",
       "      <td>31162979</td>\n",
       "      <td>M</td>\n",
       "      <td>182.00</td>\n",
       "      <td>84.00</td>\n",
       "      <td>25.00</td>\n",
       "      <td>38</td>\n",
       "    </tr>\n",
       "    <tr>\n",
       "      <th>7</th>\n",
       "      <td>14687184</td>\n",
       "      <td>M</td>\n",
       "      <td>172.00</td>\n",
       "      <td>60.00</td>\n",
       "      <td>20.00</td>\n",
       "      <td>26</td>\n",
       "    </tr>\n",
       "    <tr>\n",
       "      <th>8</th>\n",
       "      <td>8388765</td>\n",
       "      <td>M</td>\n",
       "      <td>181.00</td>\n",
       "      <td>87.00</td>\n",
       "      <td>27.00</td>\n",
       "      <td>31</td>\n",
       "    </tr>\n",
       "    <tr>\n",
       "      <th>9</th>\n",
       "      <td>3020640</td>\n",
       "      <td>M</td>\n",
       "      <td>186.00</td>\n",
       "      <td>77.00</td>\n",
       "      <td>22.00</td>\n",
       "      <td>49</td>\n",
       "    </tr>\n",
       "    <tr>\n",
       "      <th>10</th>\n",
       "      <td>4879214</td>\n",
       "      <td>M</td>\n",
       "      <td>178.00</td>\n",
       "      <td>81.00</td>\n",
       "      <td>26.00</td>\n",
       "      <td>37</td>\n",
       "    </tr>\n",
       "    <tr>\n",
       "      <th>11</th>\n",
       "      <td>1977027</td>\n",
       "      <td>M</td>\n",
       "      <td>186.00</td>\n",
       "      <td>98.00</td>\n",
       "      <td>28.00</td>\n",
       "      <td>58</td>\n",
       "    </tr>\n",
       "    <tr>\n",
       "      <th>12</th>\n",
       "      <td>19227514</td>\n",
       "      <td>M</td>\n",
       "      <td>179.00</td>\n",
       "      <td>90.00</td>\n",
       "      <td>28.00</td>\n",
       "      <td>32</td>\n",
       "    </tr>\n",
       "    <tr>\n",
       "      <th>13</th>\n",
       "      <td>5445638</td>\n",
       "      <td>M</td>\n",
       "      <td>193.00</td>\n",
       "      <td>100.00</td>\n",
       "      <td>27.00</td>\n",
       "      <td>40</td>\n",
       "    </tr>\n",
       "    <tr>\n",
       "      <th>14</th>\n",
       "      <td>15818568</td>\n",
       "      <td>M</td>\n",
       "      <td>180.00</td>\n",
       "      <td>98.00</td>\n",
       "      <td>30.00</td>\n",
       "      <td>29</td>\n",
       "    </tr>\n",
       "    <tr>\n",
       "      <th>15</th>\n",
       "      <td>36430223</td>\n",
       "      <td>M</td>\n",
       "      <td>180.00</td>\n",
       "      <td>88.00</td>\n",
       "      <td>27.00</td>\n",
       "      <td>36</td>\n",
       "    </tr>\n",
       "    <tr>\n",
       "      <th>16</th>\n",
       "      <td>8590053</td>\n",
       "      <td>M</td>\n",
       "      <td>167.00</td>\n",
       "      <td>61.00</td>\n",
       "      <td>22.00</td>\n",
       "      <td>39</td>\n",
       "    </tr>\n",
       "    <tr>\n",
       "      <th>17</th>\n",
       "      <td>7743236</td>\n",
       "      <td>M</td>\n",
       "      <td>170.00</td>\n",
       "      <td>70.00</td>\n",
       "      <td>24.00</td>\n",
       "      <td>52</td>\n",
       "    </tr>\n",
       "    <tr>\n",
       "      <th>18</th>\n",
       "      <td>483718</td>\n",
       "      <td>F</td>\n",
       "      <td>165.00</td>\n",
       "      <td>68.00</td>\n",
       "      <td>25.00</td>\n",
       "      <td>33</td>\n",
       "    </tr>\n",
       "    <tr>\n",
       "      <th>19</th>\n",
       "      <td>14256248</td>\n",
       "      <td>M</td>\n",
       "      <td>182.00</td>\n",
       "      <td>92.00</td>\n",
       "      <td>28.00</td>\n",
       "      <td>36</td>\n",
       "    </tr>\n",
       "    <tr>\n",
       "      <th>20</th>\n",
       "      <td>6933937</td>\n",
       "      <td>M</td>\n",
       "      <td>180.00</td>\n",
       "      <td>73.00</td>\n",
       "      <td>23.00</td>\n",
       "      <td>30</td>\n",
       "    </tr>\n",
       "    <tr>\n",
       "      <th>21</th>\n",
       "      <td>6085474</td>\n",
       "      <td>M</td>\n",
       "      <td>172.00</td>\n",
       "      <td>86.00</td>\n",
       "      <td>29.00</td>\n",
       "      <td>37</td>\n",
       "    </tr>\n",
       "    <tr>\n",
       "      <th>22</th>\n",
       "      <td>14632534</td>\n",
       "      <td>M</td>\n",
       "      <td>165.00</td>\n",
       "      <td>62.00</td>\n",
       "      <td>23.00</td>\n",
       "      <td>33</td>\n",
       "    </tr>\n",
       "    <tr>\n",
       "      <th>23</th>\n",
       "      <td>38416196</td>\n",
       "      <td>M</td>\n",
       "      <td>177.00</td>\n",
       "      <td>70.00</td>\n",
       "      <td>22.00</td>\n",
       "      <td>32</td>\n",
       "    </tr>\n",
       "    <tr>\n",
       "      <th>24</th>\n",
       "      <td>6462163</td>\n",
       "      <td>M</td>\n",
       "      <td>180.00</td>\n",
       "      <td>82.00</td>\n",
       "      <td>25.00</td>\n",
       "      <td>58</td>\n",
       "    </tr>\n",
       "    <tr>\n",
       "      <th>25</th>\n",
       "      <td>1855233</td>\n",
       "      <td>M</td>\n",
       "      <td>185.00</td>\n",
       "      <td>86.00</td>\n",
       "      <td>25.00</td>\n",
       "      <td>33</td>\n",
       "    </tr>\n",
       "    <tr>\n",
       "      <th>26</th>\n",
       "      <td>6149688</td>\n",
       "      <td>M</td>\n",
       "      <td>177.00</td>\n",
       "      <td>79.00</td>\n",
       "      <td>25.00</td>\n",
       "      <td>39</td>\n",
       "    </tr>\n",
       "    <tr>\n",
       "      <th>27</th>\n",
       "      <td>13482621</td>\n",
       "      <td>F</td>\n",
       "      <td>172.00</td>\n",
       "      <td>61.00</td>\n",
       "      <td>21.00</td>\n",
       "      <td>53</td>\n",
       "    </tr>\n",
       "    <tr>\n",
       "      <th>28</th>\n",
       "      <td>38526487</td>\n",
       "      <td>M</td>\n",
       "      <td>182.00</td>\n",
       "      <td>86.00</td>\n",
       "      <td>26.00</td>\n",
       "      <td>46</td>\n",
       "    </tr>\n",
       "    <tr>\n",
       "      <th>29</th>\n",
       "      <td>21750191</td>\n",
       "      <td>M</td>\n",
       "      <td>170.00</td>\n",
       "      <td>74.00</td>\n",
       "      <td>26.00</td>\n",
       "      <td>46</td>\n",
       "    </tr>\n",
       "    <tr>\n",
       "      <th>30</th>\n",
       "      <td>7559020</td>\n",
       "      <td>M</td>\n",
       "      <td>175.00</td>\n",
       "      <td>84.00</td>\n",
       "      <td>27.00</td>\n",
       "      <td>57</td>\n",
       "    </tr>\n",
       "    <tr>\n",
       "      <th>31</th>\n",
       "      <td>6772884</td>\n",
       "      <td>M</td>\n",
       "      <td>185.00</td>\n",
       "      <td>82.00</td>\n",
       "      <td>24.00</td>\n",
       "      <td>43</td>\n",
       "    </tr>\n",
       "    <tr>\n",
       "      <th>32</th>\n",
       "      <td>18053581</td>\n",
       "      <td>M</td>\n",
       "      <td>183.00</td>\n",
       "      <td>90.00</td>\n",
       "      <td>27.00</td>\n",
       "      <td>42</td>\n",
       "    </tr>\n",
       "    <tr>\n",
       "      <th>33</th>\n",
       "      <td>37519974</td>\n",
       "      <td>M</td>\n",
       "      <td>181.00</td>\n",
       "      <td>82.00</td>\n",
       "      <td>25.00</td>\n",
       "      <td>37</td>\n",
       "    </tr>\n",
       "    <tr>\n",
       "      <th>34</th>\n",
       "      <td>291239</td>\n",
       "      <td>M</td>\n",
       "      <td>183.00</td>\n",
       "      <td>75.00</td>\n",
       "      <td>22.00</td>\n",
       "      <td>53</td>\n",
       "    </tr>\n",
       "    <tr>\n",
       "      <th>35</th>\n",
       "      <td>16466371</td>\n",
       "      <td>F</td>\n",
       "      <td>169.00</td>\n",
       "      <td>84.00</td>\n",
       "      <td>29.00</td>\n",
       "      <td>31</td>\n",
       "    </tr>\n",
       "    <tr>\n",
       "      <th>36</th>\n",
       "      <td>13288714</td>\n",
       "      <td>M</td>\n",
       "      <td>170.00</td>\n",
       "      <td>61.00</td>\n",
       "      <td>21.00</td>\n",
       "      <td>21</td>\n",
       "    </tr>\n",
       "    <tr>\n",
       "      <th>37</th>\n",
       "      <td>20280877</td>\n",
       "      <td>M</td>\n",
       "      <td>169.00</td>\n",
       "      <td>64.00</td>\n",
       "      <td>22.00</td>\n",
       "      <td>32</td>\n",
       "    </tr>\n",
       "    <tr>\n",
       "      <th>38</th>\n",
       "      <td>16427514</td>\n",
       "      <td>M</td>\n",
       "      <td>180.00</td>\n",
       "      <td>72.00</td>\n",
       "      <td>22.00</td>\n",
       "      <td>40</td>\n",
       "    </tr>\n",
       "    <tr>\n",
       "      <th>39</th>\n",
       "      <td>3141114</td>\n",
       "      <td>M</td>\n",
       "      <td>170.00</td>\n",
       "      <td>74.00</td>\n",
       "      <td>26.00</td>\n",
       "      <td>41</td>\n",
       "    </tr>\n",
       "    <tr>\n",
       "      <th>40</th>\n",
       "      <td>6479207</td>\n",
       "      <td>M</td>\n",
       "      <td>166.00</td>\n",
       "      <td>60.00</td>\n",
       "      <td>22.00</td>\n",
       "      <td>34</td>\n",
       "    </tr>\n",
       "    <tr>\n",
       "      <th>41</th>\n",
       "      <td>20373513</td>\n",
       "      <td>F</td>\n",
       "      <td>172.00</td>\n",
       "      <td>67.00</td>\n",
       "      <td>23.00</td>\n",
       "      <td>33</td>\n",
       "    </tr>\n",
       "    <tr>\n",
       "      <th>42</th>\n",
       "      <td>9328701</td>\n",
       "      <td>M</td>\n",
       "      <td>181.00</td>\n",
       "      <td>83.00</td>\n",
       "      <td>25.00</td>\n",
       "      <td>33</td>\n",
       "    </tr>\n",
       "    <tr>\n",
       "      <th>43</th>\n",
       "      <td>11620755</td>\n",
       "      <td>M</td>\n",
       "      <td>172.00</td>\n",
       "      <td>70.00</td>\n",
       "      <td>24.00</td>\n",
       "      <td>37</td>\n",
       "    </tr>\n",
       "    <tr>\n",
       "      <th>44</th>\n",
       "      <td>5157727</td>\n",
       "      <td>M</td>\n",
       "      <td>173.00</td>\n",
       "      <td>65.00</td>\n",
       "      <td>22.00</td>\n",
       "      <td>25</td>\n",
       "    </tr>\n",
       "    <tr>\n",
       "      <th>45</th>\n",
       "      <td>31913446</td>\n",
       "      <td>M</td>\n",
       "      <td>177.00</td>\n",
       "      <td>82.00</td>\n",
       "      <td>26.00</td>\n",
       "      <td>41</td>\n",
       "    </tr>\n",
       "    <tr>\n",
       "      <th>46</th>\n",
       "      <td>2676543</td>\n",
       "      <td>M</td>\n",
       "      <td>181.00</td>\n",
       "      <td>84.00</td>\n",
       "      <td>26.00</td>\n",
       "      <td>45</td>\n",
       "    </tr>\n",
       "    <tr>\n",
       "      <th>47</th>\n",
       "      <td>5626308</td>\n",
       "      <td>M</td>\n",
       "      <td>181.00</td>\n",
       "      <td>72.00</td>\n",
       "      <td>22.00</td>\n",
       "      <td>38</td>\n",
       "    </tr>\n",
       "    <tr>\n",
       "      <th>48</th>\n",
       "      <td>22141338</td>\n",
       "      <td>M</td>\n",
       "      <td>168.00</td>\n",
       "      <td>62.00</td>\n",
       "      <td>22.00</td>\n",
       "      <td>32</td>\n",
       "    </tr>\n",
       "    <tr>\n",
       "      <th>49</th>\n",
       "      <td>6153320</td>\n",
       "      <td>M</td>\n",
       "      <td>177.00</td>\n",
       "      <td>71.00</td>\n",
       "      <td>23.00</td>\n",
       "      <td>41</td>\n",
       "    </tr>\n",
       "  </tbody>\n",
       "</table>\n",
       "</div>"
      ],
      "text/plain": [
       "   id_participante sexo  estatura  massa_corporal  calc_imc idade\n",
       "0         39054988    F    162.00           79.00     30.00    25\n",
       "1           324247    M    177.00           73.00     23.00    52\n",
       "2         36266311    M    170.00           67.00     23.00    27\n",
       "3         26243656    M    180.00           93.00     29.00    55\n",
       "4         14211154    M    185.00          102.00     30.00    47\n",
       "5          1240758    M    182.00           77.00     23.00    33\n",
       "6         31162979    M    182.00           84.00     25.00    38\n",
       "7         14687184    M    172.00           60.00     20.00    26\n",
       "8          8388765    M    181.00           87.00     27.00    31\n",
       "9          3020640    M    186.00           77.00     22.00    49\n",
       "10         4879214    M    178.00           81.00     26.00    37\n",
       "11         1977027    M    186.00           98.00     28.00    58\n",
       "12        19227514    M    179.00           90.00     28.00    32\n",
       "13         5445638    M    193.00          100.00     27.00    40\n",
       "14        15818568    M    180.00           98.00     30.00    29\n",
       "15        36430223    M    180.00           88.00     27.00    36\n",
       "16         8590053    M    167.00           61.00     22.00    39\n",
       "17         7743236    M    170.00           70.00     24.00    52\n",
       "18          483718    F    165.00           68.00     25.00    33\n",
       "19        14256248    M    182.00           92.00     28.00    36\n",
       "20         6933937    M    180.00           73.00     23.00    30\n",
       "21         6085474    M    172.00           86.00     29.00    37\n",
       "22        14632534    M    165.00           62.00     23.00    33\n",
       "23        38416196    M    177.00           70.00     22.00    32\n",
       "24         6462163    M    180.00           82.00     25.00    58\n",
       "25         1855233    M    185.00           86.00     25.00    33\n",
       "26         6149688    M    177.00           79.00     25.00    39\n",
       "27        13482621    F    172.00           61.00     21.00    53\n",
       "28        38526487    M    182.00           86.00     26.00    46\n",
       "29        21750191    M    170.00           74.00     26.00    46\n",
       "30         7559020    M    175.00           84.00     27.00    57\n",
       "31         6772884    M    185.00           82.00     24.00    43\n",
       "32        18053581    M    183.00           90.00     27.00    42\n",
       "33        37519974    M    181.00           82.00     25.00    37\n",
       "34          291239    M    183.00           75.00     22.00    53\n",
       "35        16466371    F    169.00           84.00     29.00    31\n",
       "36        13288714    M    170.00           61.00     21.00    21\n",
       "37        20280877    M    169.00           64.00     22.00    32\n",
       "38        16427514    M    180.00           72.00     22.00    40\n",
       "39         3141114    M    170.00           74.00     26.00    41\n",
       "40         6479207    M    166.00           60.00     22.00    34\n",
       "41        20373513    F    172.00           67.00     23.00    33\n",
       "42         9328701    M    181.00           83.00     25.00    33\n",
       "43        11620755    M    172.00           70.00     24.00    37\n",
       "44         5157727    M    173.00           65.00     22.00    25\n",
       "45        31913446    M    177.00           82.00     26.00    41\n",
       "46         2676543    M    181.00           84.00     26.00    45\n",
       "47         5626308    M    181.00           72.00     22.00    38\n",
       "48        22141338    M    168.00           62.00     22.00    32\n",
       "49         6153320    M    177.00           71.00     23.00    41"
      ]
     },
     "execution_count": 21,
     "metadata": {
      "tags": []
     },
     "output_type": "execute_result"
    }
   ],
   "source": [
    "pd.options.display.float_format = '{:,.2f}'.format\n",
    "\n",
    "# Seleção dos participantes\n",
    "\n",
    "sql_amostra = \"\"\"\n",
    "                SELECT id_participante, sexo, estatura, massa_corporal, calc_imc, idade\n",
    "                FROM participantes\n",
    "            \"\"\"\n",
    "\n",
    "   \n",
    "result = cursor.fetchall()\n",
    "\n",
    "# Apresenta o resultado\n",
    "\n",
    "df = pd.read_sql(sql_amostra , conn)\n",
    "#print(tabulate(df, headers='keys', tablefmt='psql'))\n",
    "\n",
    "print(\"50 participantes selecionados\")\n",
    "\n",
    "df\n"
   ]
  },
  {
   "cell_type": "code",
   "execution_count": null,
   "metadata": {
    "colab": {
     "base_uri": "https://localhost:8080/",
     "height": 314
    },
    "colab_type": "code",
    "id": "s632a65-wWmn",
    "outputId": "5eb9e6de-1f99-46b8-fcc8-4d2dc0d8bd84"
   },
   "outputs": [
    {
     "name": "stdout",
     "output_type": "stream",
     "text": [
      "Estatística descritiva da amostra\n"
     ]
    },
    {
     "data": {
      "text/html": [
       "<div>\n",
       "<style scoped>\n",
       "    .dataframe tbody tr th:only-of-type {\n",
       "        vertical-align: middle;\n",
       "    }\n",
       "\n",
       "    .dataframe tbody tr th {\n",
       "        vertical-align: top;\n",
       "    }\n",
       "\n",
       "    .dataframe thead th {\n",
       "        text-align: right;\n",
       "    }\n",
       "</style>\n",
       "<table border=\"1\" class=\"dataframe\">\n",
       "  <thead>\n",
       "    <tr style=\"text-align: right;\">\n",
       "      <th></th>\n",
       "      <th>estatura</th>\n",
       "      <th>massa_corporal</th>\n",
       "      <th>calc_imc</th>\n",
       "      <th>idade</th>\n",
       "    </tr>\n",
       "  </thead>\n",
       "  <tbody>\n",
       "    <tr>\n",
       "      <th>count</th>\n",
       "      <td>50.00</td>\n",
       "      <td>50.00</td>\n",
       "      <td>50.00</td>\n",
       "      <td>50.00</td>\n",
       "    </tr>\n",
       "    <tr>\n",
       "      <th>mean</th>\n",
       "      <td>176.60</td>\n",
       "      <td>77.76</td>\n",
       "      <td>24.84</td>\n",
       "      <td>38.76</td>\n",
       "    </tr>\n",
       "    <tr>\n",
       "      <th>std</th>\n",
       "      <td>6.77</td>\n",
       "      <td>11.36</td>\n",
       "      <td>2.68</td>\n",
       "      <td>9.23</td>\n",
       "    </tr>\n",
       "    <tr>\n",
       "      <th>min</th>\n",
       "      <td>162.00</td>\n",
       "      <td>60.00</td>\n",
       "      <td>20.00</td>\n",
       "      <td>21.00</td>\n",
       "    </tr>\n",
       "    <tr>\n",
       "      <th>25%</th>\n",
       "      <td>170.50</td>\n",
       "      <td>70.00</td>\n",
       "      <td>22.25</td>\n",
       "      <td>32.25</td>\n",
       "    </tr>\n",
       "    <tr>\n",
       "      <th>50%</th>\n",
       "      <td>177.50</td>\n",
       "      <td>78.00</td>\n",
       "      <td>25.00</td>\n",
       "      <td>37.00</td>\n",
       "    </tr>\n",
       "    <tr>\n",
       "      <th>75%</th>\n",
       "      <td>181.00</td>\n",
       "      <td>85.50</td>\n",
       "      <td>27.00</td>\n",
       "      <td>44.50</td>\n",
       "    </tr>\n",
       "    <tr>\n",
       "      <th>max</th>\n",
       "      <td>193.00</td>\n",
       "      <td>102.00</td>\n",
       "      <td>30.00</td>\n",
       "      <td>58.00</td>\n",
       "    </tr>\n",
       "  </tbody>\n",
       "</table>\n",
       "</div>"
      ],
      "text/plain": [
       "       estatura  massa_corporal  calc_imc  idade\n",
       "count     50.00           50.00     50.00  50.00\n",
       "mean     176.60           77.76     24.84  38.76\n",
       "std        6.77           11.36      2.68   9.23\n",
       "min      162.00           60.00     20.00  21.00\n",
       "25%      170.50           70.00     22.25  32.25\n",
       "50%      177.50           78.00     25.00  37.00\n",
       "75%      181.00           85.50     27.00  44.50\n",
       "max      193.00          102.00     30.00  58.00"
      ]
     },
     "execution_count": 22,
     "metadata": {
      "tags": []
     },
     "output_type": "execute_result"
    }
   ],
   "source": [
    "# Estatística descritiva\n",
    "\n",
    "pd.options.display.float_format = '{:,.2f}'.format\n",
    "\n",
    "#df.dtypes\n",
    "df.idade = df.idade.astype(int) #converte idade em inteiros\n",
    "\n",
    "descritiva = df.describe()\n",
    "\n",
    "print(\"Estatística descritiva da amostra\")\n",
    "descritiva"
   ]
  },
  {
   "cell_type": "markdown",
   "metadata": {
    "colab_type": "text",
    "id": "FEb9mQl6gmxo"
   },
   "source": [
    "Apresentação de dados (gráficos com Matplotlib)"
   ]
  },
  {
   "cell_type": "code",
   "execution_count": null,
   "metadata": {
    "colab": {
     "base_uri": "https://localhost:8080/",
     "height": 306
    },
    "colab_type": "code",
    "id": "Nt1B4ve_hHjC",
    "outputId": "22f354f7-40c7-484b-a64e-7764909547cf"
   },
   "outputs": [
    {
     "name": "stdout",
     "output_type": "stream",
     "text": [
      "Exemplo de uso da biblioteca Matplotlib para produzir gráficos\n"
     ]
    },
    {
     "data": {
      "image/png": "[encoded data removed]",
      "text/plain": [
       "<Figure size 1440x1440 with 16 Axes>"
      ]
     },
     "metadata": {
      "tags": []
     },
     "output_type": "display_data"
    }
   ],
   "source": [
    "# Aqui um exemplo de utilização do matplotlib para produzir gráficos\n",
    "\n",
    "%matplotlib inline\n",
    "import matplotlib.pyplot as plt\n",
    "\n",
    "# MATPLOTLIB: Histograma (univariado)\n",
    "df.plot(kind='box', subplots=True, layout=(4,4), sharex=False, sharey=False, figsize=[20,20])\n",
    "print(\"Exemplo de uso da biblioteca Matplotlib para produzir gráficos\")\n",
    "plt.show()"
   ]
  },
  {
   "cell_type": "code",
   "execution_count": null,
   "metadata": {
    "colab": {
     "base_uri": "https://localhost:8080/",
     "height": 300
    },
    "colab_type": "code",
    "id": "RtLnizb0vTBw",
    "outputId": "ef1c8d6c-01a2-453e-cc11-86a85a34b8ee"
   },
   "outputs": [
    {
     "data": {
      "text/plain": [
       "<matplotlib.axes._subplots.AxesSubplot at 0x7f258e68d940>"
      ]
     },
     "execution_count": 24,
     "metadata": {
      "tags": []
     },
     "output_type": "execute_result"
    },
    {
     "data": {
      "image/png": "[encoded data removed]",
      "text/plain": [
       "<Figure size 432x288 with 1 Axes>"
      ]
     },
     "metadata": {
      "tags": []
     },
     "output_type": "display_data"
    }
   ],
   "source": [
    "# Histograma com Seaborn (idade)\n",
    "\n",
    "import seaborn as sns\n",
    "from scipy import stats\n",
    "\n",
    "sns.distplot(df['idade'], fit=stats.norm, kde=False)"
   ]
  },
  {
   "cell_type": "code",
   "execution_count": null,
   "metadata": {
    "colab": {
     "base_uri": "https://localhost:8080/",
     "height": 300
    },
    "colab_type": "code",
    "id": "IySuX40y2EG0",
    "outputId": "63444714-4a66-4962-cf5e-b15e6b1524bb"
   },
   "outputs": [
    {
     "data": {
      "text/plain": [
       "<matplotlib.axes._subplots.AxesSubplot at 0x7f258e5b66a0>"
      ]
     },
     "execution_count": 25,
     "metadata": {
      "tags": []
     },
     "output_type": "execute_result"
    },
    {
     "data": {
      "image/png": "[encoded data removed]",
      "text/plain": [
       "<Figure size 432x288 with 1 Axes>"
      ]
     },
     "metadata": {
      "tags": []
     },
     "output_type": "display_data"
    }
   ],
   "source": [
    "# Histograma com Seaborn (estatura)\n",
    "\n",
    "sns.distplot(df['estatura'], fit=stats.norm, kde=False)"
   ]
  },
  {
   "cell_type": "code",
   "execution_count": null,
   "metadata": {
    "colab": {
     "base_uri": "https://localhost:8080/",
     "height": 301
    },
    "colab_type": "code",
    "id": "rTYleOYF2IcE",
    "outputId": "61b678a9-b57a-4a61-b2b5-f76421c1104d"
   },
   "outputs": [
    {
     "data": {
      "text/plain": [
       "<matplotlib.axes._subplots.AxesSubplot at 0x7f258e22e438>"
      ]
     },
     "execution_count": 26,
     "metadata": {
      "tags": []
     },
     "output_type": "execute_result"
    },
    {
     "data": {
      "image/png": "[encoded data removed]",
      "text/plain": [
       "<Figure size 432x288 with 1 Axes>"
      ]
     },
     "metadata": {
      "tags": []
     },
     "output_type": "display_data"
    }
   ],
   "source": [
    "# Histograma com Seaborn (massa corporal)\n",
    "\n",
    "sns.distplot(df['massa_corporal'], fit=stats.norm, kde=False)"
   ]
  },
  {
   "cell_type": "code",
   "execution_count": null,
   "metadata": {
    "colab": {
     "base_uri": "https://localhost:8080/",
     "height": 301
    },
    "colab_type": "code",
    "id": "R893d6_J2M5e",
    "outputId": "f4f242ce-81aa-46d6-c131-410978927203"
   },
   "outputs": [
    {
     "data": {
      "text/plain": [
       "<matplotlib.axes._subplots.AxesSubplot at 0x7f258e1b78d0>"
      ]
     },
     "execution_count": 27,
     "metadata": {
      "tags": []
     },
     "output_type": "execute_result"
    },
    {
     "data": {
      "image/png": "[encoded data removed]",
      "text/plain": [
       "<Figure size 432x288 with 1 Axes>"
      ]
     },
     "metadata": {
      "tags": []
     },
     "output_type": "display_data"
    }
   ],
   "source": [
    "# Histograma com Seaborn (imc)\n",
    "\n",
    "sns.distplot(df['calc_imc'], fit=stats.norm, kde=False)"
   ]
  },
  {
   "cell_type": "markdown",
   "metadata": {
    "colab_type": "text",
    "id": "m2bcTlj5qTNN"
   },
   "source": [
    "# Perguntas, exploração dos dados\n",
    "\n"
   ]
  },
  {
   "cell_type": "markdown",
   "metadata": {},
   "source": [
    "## Zonas de intensidade\n",
    "\n",
    "Determinar um parâmetro de esforço (zonas de esforço para classificação), de modo a viabilizar a investigação de diversos fatores relacionados ao esforço realizado pelo participante da pesquisa. Como tenho a data de nascimento do participante, as faixas de esforço podem ser calculadas de acordo com a frequência cardíaca máxima estimada para a idade (idade do participante na data em que a atividade foi realizada)\n",
    "\n",
    "##1. Zonas de intensidade\n",
    "\n",
    "Referência ACSM\n",
    "\n",
    "| Intensity               | % FCmax |METs|\n",
    "|-------------------------|:-------:|-------:|\n",
    "| very light              |   < 57  | \n",
    "| light                   |  57-63  |\n",
    "| moderate                |  64-76  |\n",
    "| vigorous                |  77-95  |\n",
    "| near-maximal to maximal |   > 95  |\n",
    "\n",
    "tempo de duração x esforço\n",
    "\n",
    "distância x esforço\n",
    "\n",
    "velocidade média x esforço\n",
    "\n",
    "...\n"
   ]
  },
  {
   "cell_type": "code",
   "execution_count": 6,
   "metadata": {},
   "outputs": [
    {
     "data": {
      "text/html": [
       "<div>\n",
       "<style scoped>\n",
       "    .dataframe tbody tr th:only-of-type {\n",
       "        vertical-align: middle;\n",
       "    }\n",
       "\n",
       "    .dataframe tbody tr th {\n",
       "        vertical-align: top;\n",
       "    }\n",
       "\n",
       "    .dataframe thead th {\n",
       "        text-align: right;\n",
       "    }\n",
       "</style>\n",
       "<table border=\"1\" class=\"dataframe\">\n",
       "  <thead>\n",
       "    <tr style=\"text-align: right;\">\n",
       "      <th></th>\n",
       "      <th>intensidade</th>\n",
       "      <th>atividades</th>\n",
       "    </tr>\n",
       "  </thead>\n",
       "  <tbody>\n",
       "    <tr>\n",
       "      <th>0</th>\n",
       "      <td>Z1</td>\n",
       "      <td>548</td>\n",
       "    </tr>\n",
       "    <tr>\n",
       "      <th>1</th>\n",
       "      <td>Z2</td>\n",
       "      <td>555</td>\n",
       "    </tr>\n",
       "    <tr>\n",
       "      <th>2</th>\n",
       "      <td>Z3</td>\n",
       "      <td>3382</td>\n",
       "    </tr>\n",
       "    <tr>\n",
       "      <th>3</th>\n",
       "      <td>Z4</td>\n",
       "      <td>7536</td>\n",
       "    </tr>\n",
       "    <tr>\n",
       "      <th>4</th>\n",
       "      <td>Z5</td>\n",
       "      <td>296</td>\n",
       "    </tr>\n",
       "  </tbody>\n",
       "</table>\n",
       "</div>"
      ],
      "text/plain": [
       "  intensidade  atividades\n",
       "0          Z1         548\n",
       "1          Z2         555\n",
       "2          Z3        3382\n",
       "3          Z4        7536\n",
       "4          Z5         296"
      ]
     },
     "execution_count": 6,
     "metadata": {},
     "output_type": "execute_result"
    }
   ],
   "source": [
    "sql_zonas = \"\"\"\n",
    "            SELECT (zona_fc_predominante) as intensidade, COUNT(*) AS atividades\n",
    "            FROM atividades\n",
    "            WHERE zona_fc_predominante IS NOT NULL\n",
    "            AND zona_fc_predominante <> \"\"\n",
    "            GROUP BY zona_fc_predominante\n",
    "            \"\"\"\n",
    "\n",
    "cursor.execute(sql_zonas)\n",
    "result = cursor.fetchall()\n",
    "\n",
    "df = pd.read_sql(sql_zonas , conn)\n",
    "\n",
    "df\n"
   ]
  },
  {
   "cell_type": "markdown",
   "metadata": {},
   "source": [
    "## Desempenho\n",
    "\n",
    "Identificar o aumento ou redução da performance em um histórico de atividades do participante (período de 1 ano?), e investigar possíveis causas por meio das diversas variáveis coletadas, tanto com relação ao que contribuiu para melhora na performance quanto na perda de performance.\n"
   ]
  },
  {
   "cell_type": "markdown",
   "metadata": {},
   "source": [
    "## Clima x desempenho\n",
    "\n",
    "Identificar a influência do clima, por meio de variáveis isoladas ou combinadas (temperatura, umidade do ar, velocidade do vento, etc) no desempenho do participante, frequência de atividades, etc. Existem índices de conforto térmico que podem ser utilizados para determinar as faixas de classificação (muito frio, frio, moderado, quente, muito quente, etc), dessa forma é possível relacionar variáveis de desempenho e qualidade de vida com tal classificação.\n",
    "\n"
   ]
  },
  {
   "cell_type": "markdown",
   "metadata": {},
   "source": [
    "## Variação nas condições climáticas\n",
    "\n",
    "Identificar e comparar participantes que realizam suas atividades em condições climáticas mais variadas com os que praticam em condições mais constantes.\n",
    "\n"
   ]
  },
  {
   "cell_type": "markdown",
   "metadata": {},
   "source": [
    "## Variações no terreno\n",
    "\n",
    "Do mesmo modo, identificar e comparar participantes que realizar as atividades variando o tipo de terreno (subidas, descidas) com aqueles que praticam as atividades em terrenos mais constantes (sempre plano por exemplo).\n",
    "\n"
   ]
  },
  {
   "cell_type": "markdown",
   "metadata": {},
   "source": [
    "## Direção do vento x direção do percurso\n",
    "\n",
    "Identificar a predominância da direção do vento durante uma determinada atividade, verificando o quanto coincide com a direção do percurso, de modo a investigar o imacto de correr ou pedalar contra ou a favor do vento no desempenho do participante.\n",
    "\n"
   ]
  },
  {
   "cell_type": "markdown",
   "metadata": {
    "colab_type": "text",
    "id": "Gbctb5LTyCA3"
   },
   "source": [
    "## Cálculo da direção entre duas coordenadas (bearing)\n",
    "\n",
    "Converte em radianos:\n",
    "\n",
    "$$lat_{1} = pontoA \\times \\frac{\\pi}{180}$$\n",
    "\n",
    "$$\n",
    "lat_{2} = pontoB \\times \\frac{\\pi}{180}\n",
    "$$\n",
    "\n",
    "\n",
    "Diferença entre as duas coordenadas:\n",
    "$$\n",
    "\\Delta L= (pontoB - pontoA) \\times \\frac{\\pi}{180}\n",
    "$$\n",
    "\n",
    "Vetores:\n",
    "$$\n",
    "x = \\sin(\\Delta L) \\times \\cos(lat_{2})\n",
    "$$\n",
    "\n",
    "$$\n",
    "y = \\cos(lat_{1}) \\times \\sin(lat_{2}) - \\sin(lat_{1}) \\times \\cos(lat_{2}) \\times \\cos(\\Delta L)\n",
    "$$\n",
    "\n",
    "Bearing (direção em ângulo):\n",
    "\n",
    "$$\n",
    "\\theta=atan2(x,y)\n",
    "$$\n",
    "\n"
   ]
  },
  {
   "cell_type": "code",
   "execution_count": 32,
   "metadata": {},
   "outputs": [
    {
     "data": {
      "text/latex": [
       "Converte em radianos:\n",
       "\n",
       "$$lat_{1} = pontoA \\times \\frac{\\pi}{180}$$\n",
       "\n",
       "\n",
       "$$lat_{2} = pontoB \\times \\frac{\\pi}{180}$$\n",
       "\n",
       " \n",
       "Diferença entre as duas coordenadas:\n",
       "\n",
       "$$\n",
       "\\Delta L= (pontoB - pontoA) \\times \\frac{\\pi}{180}\n",
       "$$\n",
       "\n",
       "Vetores:\n",
       "$$\n",
       "x = \\sin(\\Delta L) \\times \\cos(lat_{2})\n",
       "$$\n",
       "\n",
       "$$\n",
       "y = \\cos(lat_{1}) \\times \\sin(lat_{2}) - \\sin(lat_{1}) \\times \\cos(lat_{2}) \\times \\cos(\\Delta L)\n",
       "$$\n",
       "\n",
       "Bearing (direção em ângulo):\n",
       "\n",
       "$$\n",
       "\\theta=atan2(x,y)\n",
       "$$ \n"
      ],
      "text/plain": [
       "<IPython.core.display.Latex object>"
      ]
     },
     "execution_count": 32,
     "metadata": {},
     "output_type": "execute_result"
    }
   ],
   "source": [
    "#from JupyterLab demo notebook November 2, 2016\n",
    "from IPython.display import Latex\n",
    "Latex('''Converte em radianos:\n",
    "\n",
    "$$lat_{1} = pontoA \\\\times \\\\frac{\\pi}{180}$$\n",
    "\n",
    "\n",
    "$$lat_{2} = pontoB \\\\times \\\\frac{\\pi}{180}$$\n",
    "\n",
    " \n",
    "Diferença entre as duas coordenadas:\n",
    "\n",
    "$$\n",
    "\\Delta L= (pontoB - pontoA) \\\\times \\\\frac{\\pi}{180}\n",
    "$$\n",
    "\n",
    "Vetores:\n",
    "$$\n",
    "x = \\sin(\\Delta L) \\\\times \\cos(lat_{2})\n",
    "$$\n",
    "\n",
    "$$\n",
    "y = \\cos(lat_{1}) \\\\times \\sin(lat_{2}) - \\sin(lat_{1}) \\\\times \\cos(lat_{2}) \\\\times \\cos(\\Delta L)\n",
    "$$\n",
    "\n",
    "Bearing (direção em ângulo):\n",
    "\n",
    "$$\n",
    "\\\\theta=atan2(x,y)\n",
    "$$ \n",
    "''')"
   ]
  },
  {
   "cell_type": "markdown",
   "metadata": {},
   "source": [
    "## Gráfico tipo \"windrose\""
   ]
  },
  {
   "cell_type": "code",
   "execution_count": 10,
   "metadata": {},
   "outputs": [
    {
     "data": {
      "image/png": "[encoded data removed]",
      "text/plain": [
       "<Figure size 640x640 with 1 Axes>"
      ]
     },
     "metadata": {},
     "output_type": "display_data"
    }
   ],
   "source": [
    "from windrose import WindroseAxes\n",
    "from matplotlib import pyplot as plt\n",
    "import matplotlib.cm as cm\n",
    "import numpy as np\n",
    "from numpy.random import random\n",
    "from numpy import arange\n",
    "import pymysql\n",
    "import pandas as pd\n",
    "import warnings\n",
    "\n",
    "## --------------------------------------------------------------------------------------------------\n",
    "## *** Desabilita warnings ***\n",
    "## --------------------------------------------------------------------------------------------------\n",
    "\n",
    "warnings.filterwarnings('ignore')\n",
    "\n",
    "\n",
    "\n",
    "MYSQL_HOST=\"rafaelsulino.pro.br\"\n",
    "MYSQL_PORT=3306\n",
    "MYSQL_DB=\"doutorado\"\n",
    "MYSQL_USER=\"root\"\n",
    "MYSQL_PASS=\"1qazxmklop0\"\n",
    "\n",
    "conn = pymysql.connect(MYSQL_HOST, user=MYSQL_USER, port=MYSQL_PORT, passwd=MYSQL_PASS, db=MYSQL_DB)\n",
    "cursor = conn.cursor()\n",
    "cursor.execute(\"SELECT VERSION()\")\n",
    "\n",
    "data = cursor.fetchone()\n",
    "#print (\"Database version : %s \" % data)\n",
    "\n",
    "\n",
    "sql_amostra = \"\"\"\n",
    "                SELECT velocidade_vento, dir_vento_graus \n",
    "                FROM clima_atividade_inicio\n",
    "                LIMIT 500\n",
    "                \"\"\"\n",
    "\n",
    "#cursor.execute(sql_amostra)\n",
    "result = cursor.fetchall()\n",
    "\n",
    "df = pd.read_sql(sql_amostra, conn)\n",
    "\n",
    "ws = df[\"velocidade_vento\"].tolist()\n",
    "wd = df[\"dir_vento_graus\"].tolist()\n",
    "\n",
    "#Create wind speed and direction variables\n",
    "#ws = random(500)*6\n",
    "#wd = random(500)*360\n",
    "\n",
    "\n",
    "#A quick way to create new windrose axes...\n",
    "def new_axes():\n",
    "    fig = plt.figure(figsize=(8, 8), dpi=80, facecolor='w', edgecolor='w')\n",
    "    rect = [0.1, 0.1, 0.8, 0.8]\n",
    "    ax = WindroseAxes(fig, rect)\n",
    "    fig.add_axes(ax)\n",
    "    return ax\n",
    "\n",
    "#...and adjust the legend box\n",
    "def set_legend(ax):\n",
    "    l = ax.legend(borderaxespad=-0.10)\n",
    "    plt.setp(l.get_texts(), fontsize=8)\n",
    "\n",
    "# A stacked histogram with normed (displayed in percent) results :\n",
    "\n",
    "ax = new_axes()\n",
    "#ax.bar(wd, ws, normed=True, opening=0.8, edgecolor='white')\n",
    "ax.bar(wd, ws)\n",
    "set_legend(ax)"
   ]
  },
  {
   "cell_type": "markdown",
   "metadata": {},
   "source": [
    "## FC x variabilidade do terreno\n",
    "\n",
    "Investigar a relação entre subidas e descidas acumuladas (variabilidade do terreno) no comportamento da frequÊncia cardíaca (FC máxima, FC média e recuperação da FC após uma subida, por exemplo).\n",
    "\n"
   ]
  },
  {
   "cell_type": "markdown",
   "metadata": {},
   "source": [
    "## Influência no sexo\n",
    "\n",
    "Identificar se variáveis como clima, variabilidade do terreno, etc influenciam de forma diferente no esforço e desempenho do participante, de acordo com o sexo (masculino ou feminino).\n",
    "\n"
   ]
  },
  {
   "cell_type": "markdown",
   "metadata": {},
   "source": [
    "## Influência na faixa etária\n",
    "\n",
    "Identificar se variáveis como clima, variabilidade do terreno, etc influenciam de forma diferente no esforço e desempenho do participante, de acordo com a faixa etária.\n",
    "\n"
   ]
  },
  {
   "cell_type": "markdown",
   "metadata": {},
   "source": [
    "## Qualidade de vida\n",
    "\n",
    "Relacionar o score do questionário WHOQOL-Bref (qualidade de vida) com os hábitos de prática de atividade física do participante. O WHOQOL-Bref apresenta 4 domínios (físico, psicológico, relações pessoais e ambiente), possibilitando relacionar diversas variáveis coletadas com cada um dos domínios relacionados à qualidade de vida.\n",
    "\n"
   ]
  },
  {
   "cell_type": "markdown",
   "metadata": {},
   "source": [
    "## Hábito de aquecimento\n",
    "\n",
    "Verificar habitos de aquecimento do praticante (elevação gradual do esforço no início da atividade)."
   ]
  },
  {
   "cell_type": "markdown",
   "metadata": {},
   "source": [
    "## Rotas / segmentos\n",
    "\n",
    "climb category\n",
    "esforço"
   ]
  },
  {
   "cell_type": "markdown",
   "metadata": {},
   "source": [
    "Segmentos do Strava: o Strava possui uma espécie de \"competição\" baseada em segmentos, possibilitando ao participante tentar ter o melhor desempenho em um determinado segmento (percurso ou trecho de um percurso). Dessa forma, é possível verificar o quanto essa \"competição\" motiva o participante, ou seja, comparar o desempenho do participante em segmentos do strava com outras atividades sem segmentos definidos.\n",
    "\n"
   ]
  },
  {
   "cell_type": "code",
   "execution_count": null,
   "metadata": {
    "colab": {},
    "colab_type": "code",
    "id": "NUTTvijouVP8"
   },
   "outputs": [],
   "source": []
  },
  {
   "cell_type": "markdown",
   "metadata": {
    "colab_type": "text",
    "id": "d32zQFEsrLKn"
   },
   "source": []
  },
  {
   "cell_type": "code",
   "execution_count": null,
   "metadata": {},
   "outputs": [],
   "source": []
  }
 ],
 "metadata": {
  "colab": {
   "collapsed_sections": [],
   "name": "Estudo Piloto 20190725.ipynb",
   "provenance": [],
   "version": "0.3.2"
  },
  "kernelspec": {
   "display_name": "Python 3",
   "language": "python",
   "name": "python3"
  },
  "language_info": {
   "codemirror_mode": {
    "name": "ipython",
    "version": 3
   },
   "file_extension": ".py",
   "mimetype": "text/x-python",
   "name": "python",
   "nbconvert_exporter": "python",
   "pygments_lexer": "ipython3",
   "version": "3.7.3"
  }
 },
 "nbformat": 4,
 "nbformat_minor": 4
}
